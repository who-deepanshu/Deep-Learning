{
 "cells": [
  {
   "cell_type": "markdown",
   "metadata": {},
   "source": [
    "<h1>Stemming in NLP</h1>\n",
    "<p>The process of reducing a word to its word stem that affixes to suffixes and prefixes or the roots.</p>"
   ]
  },
  {
   "cell_type": "markdown",
   "metadata": {},
   "source": [
    "<p>Importing the Natural Language Toolkit (NLTK) librabry</p>"
   ]
  },
  {
   "cell_type": "code",
   "execution_count": 2,
   "metadata": {},
   "outputs": [],
   "source": [
    "import nltk\n",
    "from nltk.stem import PorterStemmer # For stemming  \n",
    "from nltk.corpus import stopwords   # It removes most occuring words that is not important "
   ]
  },
  {
   "cell_type": "markdown",
   "metadata": {},
   "source": [
    "<h4>Initializing a long paragraph for Tokenization</h4>\n",
    "<p>Speech delivered by Swami Vivekananda on September 11, 1893</p>"
   ]
  },
  {
   "cell_type": "code",
   "execution_count": 3,
   "metadata": {},
   "outputs": [],
   "source": [
    "para = \"\"\"Sisters and Brothers of America,It fills my heart with joy unspeakable to rise in response to the warm and cordial welcome which you have given us. \n",
    "I thank you in the name of the most ancient order of monks in the world, I thank you in the name of the mother of religions, \n",
    "and I thank you in the name of millions and millions of Hindu people of all classes and sects.\n",
    "My thanks, also, to some of the speakers on this platform who, referring to the delegates from the Orient, have told you that these men from far-off nations \n",
    "may well claim the honor of bearing to different lands the idea of toleration. I am proud to belong to a religion which has taught the world both tolerance \n",
    "and universal acceptance.We believe not only in universal toleration, but we accept all religions as true. I am proud to belong to a nation which has sheltered \n",
    "the persecuted and the refugees of all religions and all nations of the earth. I am proud to tell you that we have gathered in our bosom the purest remnant of \n",
    "the Israelites, who came to Southern India and took refuge with us in the very year in which their holy temple was shat­tered to pieces by Roman tyranny. \n",
    "I am proud to belong to the religion which has sheltered and is still fostering the remnant of the grand Zoroastrian nation. I will quote to you, brethren, \n",
    "a few lines from a hymn which I remember to have repeated from my earliest boyhood, which is every day repeated by millions of human beings: “As the different \n",
    "streams having their sources in different paths which men take through different tendencies, various though they appear, crooked or straight, all lead to Thee.\"\"\""
   ]
  },
  {
   "cell_type": "code",
   "execution_count": 4,
   "metadata": {},
   "outputs": [
    {
     "data": {
      "text/plain": [
       "['Sisters and Brothers of America,It fills my heart with joy unspeakable to rise in response to the warm and cordial welcome which you have given us.',\n",
       " 'I thank you in the name of the most ancient order of monks in the world, I thank you in the name of the mother of religions, \\nand I thank you in the name of millions and millions of Hindu people of all classes and sects.',\n",
       " 'My thanks, also, to some of the speakers on this platform who, referring to the delegates from the Orient, have told you that these men from far-off nations \\nmay well claim the honor of bearing to different lands the idea of toleration.',\n",
       " 'I am proud to belong to a religion which has taught the world both tolerance \\nand universal acceptance.We believe not only in universal toleration, but we accept all religions as true.',\n",
       " 'I am proud to belong to a nation which has sheltered \\nthe persecuted and the refugees of all religions and all nations of the earth.',\n",
       " 'I am proud to tell you that we have gathered in our bosom the purest remnant of \\nthe Israelites, who came to Southern India and took refuge with us in the very year in which their holy temple was shat\\xadtered to pieces by Roman tyranny.',\n",
       " 'I am proud to belong to the religion which has sheltered and is still fostering the remnant of the grand Zoroastrian nation.',\n",
       " 'I will quote to you, brethren, \\na few lines from a hymn which I remember to have repeated from my earliest boyhood, which is every day repeated by millions of human beings: “As the different \\nstreams having their sources in different paths which men take through different tendencies, various though they appear, crooked or straight, all lead to Thee.']"
      ]
     },
     "execution_count": 4,
     "metadata": {},
     "output_type": "execute_result"
    }
   ],
   "source": [
    "sentences = nltk.sent_tokenize(para)\n",
    "sentences"
   ]
  },
  {
   "cell_type": "markdown",
   "metadata": {},
   "source": [
    "Above function return a list of sentences.<br>\n",
    "As we can see that long paragraph is converted into 8 sentences."
   ]
  },
  {
   "cell_type": "code",
   "execution_count": 17,
   "metadata": {},
   "outputs": [
    {
     "data": {
      "text/plain": [
       "8"
      ]
     },
     "execution_count": 17,
     "metadata": {},
     "output_type": "execute_result"
    }
   ],
   "source": [
    "len(sentences)"
   ]
  },
  {
   "cell_type": "markdown",
   "metadata": {},
   "source": [
    "Creating object of <b>PorterStemmer</b> which has stem function for conversion into stem words."
   ]
  },
  {
   "cell_type": "code",
   "execution_count": 6,
   "metadata": {},
   "outputs": [],
   "source": [
    "stemmer = PorterStemmer()"
   ]
  },
  {
   "cell_type": "markdown",
   "metadata": {},
   "source": [
    "Here, we converting the sentences into Stemming format."
   ]
  },
  {
   "cell_type": "code",
   "execution_count": 7,
   "metadata": {},
   "outputs": [],
   "source": [
    "for i in range(len(sentences)):\n",
    "    words = nltk.word_tokenize(sentences[i])\n",
    "    words = [stemmer.stem(word) for word in words if word not in set(stopwords.words('english'))]\n",
    "    sentences[i] = ' '.join(words)"
   ]
  },
  {
   "cell_type": "code",
   "execution_count": 15,
   "metadata": {},
   "outputs": [
    {
     "data": {
      "text/plain": [
       "['sister brother america , it fill heart joy unspeak rise respons warm cordial welcom given us .',\n",
       " 'i thank name ancient order monk world , i thank name mother religion , i thank name million million hindu peopl class sect .',\n",
       " 'my thank , also , speaker platform , refer deleg orient , told men far-off nation may well claim honor bear differ land idea toler .',\n",
       " 'i proud belong religion taught world toler univers acceptance.w believ univers toler , accept religion true .',\n",
       " 'i proud belong nation shelter persecut refuge religion nation earth .',\n",
       " 'i proud tell gather bosom purest remnant israelit , came southern india took refug us year holi templ shat\\xadter piec roman tyranni .',\n",
       " 'i proud belong religion shelter still foster remnant grand zoroastrian nation .',\n",
       " 'i quot , brethren , line hymn i rememb repeat earliest boyhood , everi day repeat million human be : “ as differ stream sourc differ path men take differ tendenc , variou though appear , crook straight , lead thee .']"
      ]
     },
     "execution_count": 15,
     "metadata": {},
     "output_type": "execute_result"
    }
   ],
   "source": [
    "sentences"
   ]
  },
  {
   "cell_type": "markdown",
   "metadata": {},
   "source": [
    "We can observe that this paragraph is bit different from original one.<br>\n",
    "As, it has less words in each sentence and also words arn't meaningfull."
   ]
  }
 ],
 "metadata": {
  "kernelspec": {
   "display_name": "Python 3",
   "language": "python",
   "name": "python3"
  },
  "language_info": {
   "codemirror_mode": {
    "name": "ipython",
    "version": 3
   },
   "file_extension": ".py",
   "mimetype": "text/x-python",
   "name": "python",
   "nbconvert_exporter": "python",
   "pygments_lexer": "ipython3",
   "version": "3.11.3"
  }
 },
 "nbformat": 4,
 "nbformat_minor": 2
}
